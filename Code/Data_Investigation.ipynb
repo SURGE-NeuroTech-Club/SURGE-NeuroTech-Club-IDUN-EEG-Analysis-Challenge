{
 "cells": [
  {
   "cell_type": "markdown",
   "metadata": {},
   "source": [
    "# Data Investigation\n",
    "Goal is to load and look at the data"
   ]
  },
  {
   "cell_type": "markdown",
   "metadata": {},
   "source": [
    "## Setup"
   ]
  },
  {
   "cell_type": "markdown",
   "metadata": {},
   "source": [
    "### Imports"
   ]
  },
  {
   "cell_type": "code",
   "execution_count": 1,
   "metadata": {},
   "outputs": [],
   "source": [
    "import os\n",
    "import os.path as op\n",
    "import mne \n",
    "import numpy as np\n",
    "\n",
    "from utils import load_eeg, load_labels, get_event_epochs"
   ]
  },
  {
   "cell_type": "markdown",
   "metadata": {},
   "source": [
    "### Directories/Pathing"
   ]
  },
  {
   "cell_type": "code",
   "execution_count": 2,
   "metadata": {},
   "outputs": [],
   "source": [
    "data_dir = op.join('..', 'Data')"
   ]
  },
  {
   "cell_type": "markdown",
   "metadata": {},
   "source": [
    "## Markers"
   ]
  },
  {
   "cell_type": "code",
   "execution_count": 9,
   "metadata": {},
   "outputs": [],
   "source": [
    "markers: list[str] = ['S', 'K', 'REM', 'Son', 'Soff', 'A', 'MS', ]\n",
    "marker_colors: dict[str] = {\n",
    "    'S': 'r',\n",
    "    'K': 'g',\n",
    "    'REM': 'b',\n",
    "    'Son': 'm',\n",
    "    'Soff': 'c',\n",
    "    'A': 'y',\n",
    "    'MS': 'k',\n",
    "}"
   ]
  },
  {
   "cell_type": "markdown",
   "metadata": {},
   "source": [
    "## Load in some data\n",
    "- Using pre-made loading functions from https://github.com/BCI-I/BCII-IDUN-Challenge-tutorials in *utils.py*"
   ]
  },
  {
   "cell_type": "code",
   "execution_count": 10,
   "metadata": {},
   "outputs": [
    {
     "name": "stdout",
     "output_type": "stream",
     "text": [
      "Creating RawArray with float64 data, n_channels=1, n_times=5394412\n",
      "    Range : 0 ... 5394411 =      0.000 ... 21577.644 secs\n",
      "Ready.\n",
      "<Info | 7 non-empty values\n",
      " bads: []\n",
      " ch_names: EEG1\n",
      " chs: 1 EEG\n",
      " custom_ref_applied: False\n",
      " highpass: 0.0 Hz\n",
      " lowpass: 125.0 Hz\n",
      " meas_date: unspecified\n",
      " nchan: 1\n",
      " projs: []\n",
      " sfreq: 250.0 Hz\n",
      ">\n"
     ]
    },
    {
     "data": {
      "text/html": [
       "<div>\n",
       "<style scoped>\n",
       "    .dataframe tbody tr th:only-of-type {\n",
       "        vertical-align: middle;\n",
       "    }\n",
       "\n",
       "    .dataframe tbody tr th {\n",
       "        vertical-align: top;\n",
       "    }\n",
       "\n",
       "    .dataframe thead th {\n",
       "        text-align: right;\n",
       "    }\n",
       "</style>\n",
       "<table border=\"1\" class=\"dataframe\">\n",
       "  <thead>\n",
       "    <tr style=\"text-align: right;\">\n",
       "      <th></th>\n",
       "      <th>Marker</th>\n",
       "      <th>Timestamp_samples</th>\n",
       "      <th>Epoch</th>\n",
       "    </tr>\n",
       "  </thead>\n",
       "  <tbody>\n",
       "    <tr>\n",
       "      <th>0</th>\n",
       "      <td>REM</td>\n",
       "      <td>38643</td>\n",
       "      <td>6</td>\n",
       "    </tr>\n",
       "    <tr>\n",
       "      <th>1</th>\n",
       "      <td>REM</td>\n",
       "      <td>39196</td>\n",
       "      <td>6</td>\n",
       "    </tr>\n",
       "    <tr>\n",
       "      <th>2</th>\n",
       "      <td>REM</td>\n",
       "      <td>39404</td>\n",
       "      <td>6</td>\n",
       "    </tr>\n",
       "    <tr>\n",
       "      <th>3</th>\n",
       "      <td>REM</td>\n",
       "      <td>40046</td>\n",
       "      <td>6</td>\n",
       "    </tr>\n",
       "    <tr>\n",
       "      <th>4</th>\n",
       "      <td>REM</td>\n",
       "      <td>40725</td>\n",
       "      <td>6</td>\n",
       "    </tr>\n",
       "  </tbody>\n",
       "</table>\n",
       "</div>"
      ],
      "text/plain": [
       "  Marker  Timestamp_samples  Epoch\n",
       "0    REM              38643      6\n",
       "1    REM              39196      6\n",
       "2    REM              39404      6\n",
       "3    REM              40046      6\n",
       "4    REM              40725      6"
      ]
     },
     "execution_count": 10,
     "metadata": {},
     "output_type": "execute_result"
    }
   ],
   "source": [
    "SUBJECT: str = \"S001\"\n",
    "\n",
    "eeg = load_eeg(data_dir, SUBJECT)\n",
    "\n",
    "labels = load_labels(data_dir, SUBJECT)\n",
    "\n",
    "labels.head()"
   ]
  },
  {
   "cell_type": "markdown",
   "metadata": {},
   "source": [
    "## Create epochs around each event\n",
    "get_event_epochs returns a mne.Epochs object, which we can then extract the data from. _data is a numpy array of shape (n_epochs, n_samples). Here, with 30s epochs, n_samples is 7500 (data acquired at 250 Hz). n_epochs varies across subjects. We either through all Markers and concatenate the data.\n"
   ]
  },
  {
   "cell_type": "code",
   "execution_count": 11,
   "metadata": {},
   "outputs": [
    {
     "name": "stdout",
     "output_type": "stream",
     "text": [
      "Not setting metadata\n",
      "210 matching events found\n",
      "No baseline correction applied\n",
      "0 projection items activated\n",
      "Using data from preloaded Raw for 210 events and 7501 original time points ...\n",
      "0 bad epochs dropped\n",
      "Not setting metadata\n",
      "199 matching events found\n",
      "No baseline correction applied\n",
      "0 projection items activated\n",
      "Using data from preloaded Raw for 199 events and 7501 original time points ...\n",
      "0 bad epochs dropped\n",
      "Not setting metadata\n",
      "170 matching events found\n",
      "No baseline correction applied\n",
      "0 projection items activated\n",
      "Using data from preloaded Raw for 170 events and 7501 original time points ...\n",
      "0 bad epochs dropped\n",
      "Not setting metadata\n",
      "29 matching events found\n",
      "No baseline correction applied\n",
      "0 projection items activated\n",
      "Using data from preloaded Raw for 29 events and 7501 original time points ...\n",
      "0 bad epochs dropped\n",
      "Not setting metadata\n",
      "18 matching events found\n",
      "No baseline correction applied\n",
      "0 projection items activated\n",
      "Using data from preloaded Raw for 18 events and 7501 original time points ...\n",
      "0 bad epochs dropped\n",
      "Not setting metadata\n",
      "22 matching events found\n",
      "No baseline correction applied\n",
      "0 projection items activated\n",
      "Using data from preloaded Raw for 22 events and 7501 original time points ...\n",
      "0 bad epochs dropped\n",
      "Not setting metadata\n",
      "7 matching events found\n",
      "No baseline correction applied\n",
      "0 projection items activated\n",
      "Using data from preloaded Raw for 7 events and 7501 original time points ...\n",
      "0 bad epochs dropped\n"
     ]
    },
    {
     "name": "stderr",
     "output_type": "stream",
     "text": [
      "c:\\Users\\surge\\Documents\\GitHub\\SURGE-NeuroTech-Club-IDUN-EEG-Analysis-Challenge\\Code\\utils.py:56: RuntimeWarning: The events passed to the Epochs constructor are not chronologically ordered.\n",
      "  epochs = mne.Epochs(raw, events=events, tmin=tmin, tmax=tmax, baseline=None, preload=True)\n",
      "c:\\Users\\surge\\Documents\\GitHub\\SURGE-NeuroTech-Club-IDUN-EEG-Analysis-Challenge\\Code\\utils.py:56: RuntimeWarning: The events passed to the Epochs constructor are not chronologically ordered.\n",
      "  epochs = mne.Epochs(raw, events=events, tmin=tmin, tmax=tmax, baseline=None, preload=True)\n",
      "c:\\Users\\surge\\Documents\\GitHub\\SURGE-NeuroTech-Club-IDUN-EEG-Analysis-Challenge\\Code\\utils.py:56: RuntimeWarning: The events passed to the Epochs constructor are not chronologically ordered.\n",
      "  epochs = mne.Epochs(raw, events=events, tmin=tmin, tmax=tmax, baseline=None, preload=True)\n",
      "c:\\Users\\surge\\Documents\\GitHub\\SURGE-NeuroTech-Club-IDUN-EEG-Analysis-Challenge\\Code\\utils.py:56: RuntimeWarning: The events passed to the Epochs constructor are not chronologically ordered.\n",
      "  epochs = mne.Epochs(raw, events=events, tmin=tmin, tmax=tmax, baseline=None, preload=True)\n",
      "c:\\Users\\surge\\Documents\\GitHub\\SURGE-NeuroTech-Club-IDUN-EEG-Analysis-Challenge\\Code\\utils.py:56: RuntimeWarning: The events passed to the Epochs constructor are not chronologically ordered.\n",
      "  epochs = mne.Epochs(raw, events=events, tmin=tmin, tmax=tmax, baseline=None, preload=True)\n",
      "c:\\Users\\surge\\Documents\\GitHub\\SURGE-NeuroTech-Club-IDUN-EEG-Analysis-Challenge\\Code\\utils.py:56: RuntimeWarning: The events passed to the Epochs constructor are not chronologically ordered.\n",
      "  epochs = mne.Epochs(raw, events=events, tmin=tmin, tmax=tmax, baseline=None, preload=True)\n",
      "c:\\Users\\surge\\Documents\\GitHub\\SURGE-NeuroTech-Club-IDUN-EEG-Analysis-Challenge\\Code\\utils.py:56: RuntimeWarning: The events passed to the Epochs constructor are not chronologically ordered.\n",
      "  epochs = mne.Epochs(raw, events=events, tmin=tmin, tmax=tmax, baseline=None, preload=True)\n"
     ]
    }
   ],
   "source": [
    "epoch_eeg_data = []\n",
    "epoch_labels = []\n",
    "\n",
    "for marker in markers:\n",
    "    epochs = get_event_epochs(eeg, labels, marker)\n",
    "    if epochs is None:\n",
    "        print(f\"!!! --- No epochs found for marker {marker}\")\n",
    "        continue\n",
    "\n",
    "    _data = epochs.get_data()[:, 0, :]\n",
    "    epoch_eeg_data.append(_data)\n",
    "    epoch_labels.append(np.full(len(_data), marker))\n",
    "\n",
    "assert len(epoch_eeg_data) == len(epoch_labels)"
   ]
  },
  {
   "cell_type": "markdown",
   "metadata": {},
   "source": [
    "## Finally, concatenate the data. \n",
    "We store all EEG epochs in X of shape (n_epochs, n_samples) and all labels in y of shape (n_epochs,).\n"
   ]
  },
  {
   "cell_type": "code",
   "execution_count": 14,
   "metadata": {},
   "outputs": [
    {
     "name": "stdout",
     "output_type": "stream",
     "text": [
      "(655, 7501) (655,)\n"
     ]
    }
   ],
   "source": [
    "X = np.concatenate(epoch_eeg_data, axis=0)\n",
    "y = np.concatenate(epoch_labels, axis=0)\n",
    "\n",
    "print(X.shape, y.shape)"
   ]
  },
  {
   "cell_type": "code",
   "execution_count": null,
   "metadata": {},
   "outputs": [],
   "source": []
  }
 ],
 "metadata": {
  "kernelspec": {
   "display_name": "kaggle-BCI",
   "language": "python",
   "name": "python3"
  },
  "language_info": {
   "codemirror_mode": {
    "name": "ipython",
    "version": 3
   },
   "file_extension": ".py",
   "mimetype": "text/x-python",
   "name": "python",
   "nbconvert_exporter": "python",
   "pygments_lexer": "ipython3",
   "version": "3.12.3"
  }
 },
 "nbformat": 4,
 "nbformat_minor": 2
}
